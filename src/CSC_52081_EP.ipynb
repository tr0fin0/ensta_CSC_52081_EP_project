{
 "cells": [
  {
   "cell_type": "markdown",
   "metadata": {},
   "source": [
    "# CSC_52081_EP Project - Team 8\n",
    "\n",
    "Advanced Machine Learning and Autonomous Agents Project"
   ]
  },
  {
   "cell_type": "markdown",
   "metadata": {},
   "source": [
    "## Introduction"
   ]
  },
  {
   "cell_type": "markdown",
   "metadata": {},
   "source": []
  },
  {
   "cell_type": "markdown",
   "metadata": {},
   "source": [
    "### Authors and Acknowledgmentss"
   ]
  },
  {
   "cell_type": "markdown",
   "metadata": {},
   "source": [
    "This project was developed by in alphabetical order:\n",
    "\n",
    "- Guilherme NUNES TROFINO:\n",
    "    - [![LinkedIn](https://i.stack.imgur.com/gVE0j.png) LinkedIn](https://www.linkedin.com/in/guilherme-trofino/)\n",
    "    - [![GitHub](https://i.stack.imgur.com/tskMh.png) GitHub](https://github.com/tr0fin0)\n",
    "\n",
    "- Mateus GALVÃO:\n",
    "    - [![LinkedIn](https://i.stack.imgur.com/gVE0j.png) LinkedIn](https://www.linkedin.com/in/galvao-mateus/)\n",
    "    - [![GitHub](https://i.stack.imgur.com/tskMh.png) GitHub](https://github.com/Mateushga1)\n",
    "\n",
    "- Rafael BENZI:\n",
    "    - [![LinkedIn](https://i.stack.imgur.com/gVE0j.png) LinkedIn](https://www.linkedin.com/in/rafael-benzi/)\n",
    "    - [![GitHub](https://i.stack.imgur.com/tskMh.png) GitHub](https://github.com/rafinhafpb)\n",
    "\n",
    "We greatly appreciate our [CSC_52081_EP](https://synapses.polytechnique.fr/catalogue/2024-2025/ue/637/CSC-52081-EP-apprentissage-automatique-avance-et-agents-autonomes?from=D1) teachers at [École Polytechnique](https://www.polytechnique.edu/) in alphabetical order:\n",
    "\n",
    "- Clément ELLIKER;\n",
    "- Jérémie DECOCK;\n",
    "- Jesse READ;\n",
    "- Sonia VANIER;"
   ]
  },
  {
   "cell_type": "markdown",
   "metadata": {},
   "source": [
    "## Installation"
   ]
  },
  {
   "cell_type": "markdown",
   "metadata": {},
   "source": []
  },
  {
   "cell_type": "code",
   "execution_count": null,
   "metadata": {
    "vscode": {
     "languageId": "plaintext"
    }
   },
   "outputs": [],
   "source": []
  },
  {
   "cell_type": "markdown",
   "metadata": {},
   "source": [
    "## Description"
   ]
  },
  {
   "cell_type": "markdown",
   "metadata": {},
   "source": []
  },
  {
   "cell_type": "code",
   "execution_count": null,
   "metadata": {
    "vscode": {
     "languageId": "plaintext"
    }
   },
   "outputs": [],
   "source": []
  }
 ],
 "metadata": {
  "language_info": {
   "name": "python"
  }
 },
 "nbformat": 4,
 "nbformat_minor": 2
}
